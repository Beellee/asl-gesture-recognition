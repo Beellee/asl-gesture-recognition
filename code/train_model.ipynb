{
 "cells": [
  {
   "cell_type": "code",
   "execution_count": null,
   "metadata": {},
   "outputs": [
    {
     "name": "stdout",
     "output_type": "stream",
     "text": [
      "\u001b[33mWARNING: You are using pip version 21.2.4; however, version 25.0.1 is available.\n",
      "You should consider upgrading via the '/Library/Developer/CommandLineTools/usr/bin/python3 -m pip install --upgrade pip' command.\u001b[0m\n"
     ]
    }
   ],
   "source": [
    "#!pip3 install -q mediapipe\n",
    "#!pip3 install -q imageio\n",
    "#!pip3 install -q sklearn\n",
    "#!pip3 install -q torch"
   ]
  },
  {
   "cell_type": "code",
   "execution_count": 1,
   "metadata": {},
   "outputs": [],
   "source": [
    "import cv2\n",
    "import mediapipe as mp\n",
    "import os\n",
    "import numpy as np\n",
    "import pickle\n",
    "\n",
    "from sklearn.model_selection import train_test_split\n",
    "from sklearn.preprocessing import LabelEncoder\n",
    "\n",
    "import torch\n",
    "import torch.nn as nn\n",
    "from torch.utils.data import DataLoader, TensorDataset\n",
    "\n",
    "# warning levels \n",
    "os.environ[\"TF_CPP_MIN_LOG_LEVEL\"] = \"2\"\n",
    "# \"0\" = all logs (default)\n",
    "# \"1\" = filter out INFO\n",
    "# \"2\" = filter out INFO + WARNING\n",
    "# \"3\" = filter out INFO + WARNING + ERROR "
   ]
  },
  {
   "cell_type": "code",
   "execution_count": 2,
   "metadata": {},
   "outputs": [],
   "source": [
    "data_folder = '../data/videos/'\n",
    "#signs = ['hello', 'bye', 'world', 'thank_you']\n",
    "signs = ['hello', 'bye', 'world', 'thank_you', 'yes', 'no', 'please']\n",
    "\n",
    "MODEL_PATH = \"hand_landmarker.task\"  "
   ]
  },
  {
   "cell_type": "markdown",
   "metadata": {},
   "source": [
    "## Extract Keypoints"
   ]
  },
  {
   "cell_type": "code",
   "execution_count": 10,
   "metadata": {},
   "outputs": [],
   "source": [
    "def extract_keypoints_for_signs(data_folder, signs, output_base):\n",
    "    mp_holistic = mp.solutions.holistic\n",
    "\n",
    "    # Número esperado de keypoints\n",
    "    POSE_LANDMARKS = 33\n",
    "    HAND_LANDMARKS = 21\n",
    "     # como el df y la complejidad de los signos es reducida guardamos solo las manos (no la pose)\n",
    "    # TOTAL_KEYPOINTS = POSE_LANDMARKS + 2 * HAND_LANDMARKS\n",
    "    TOTAL_KEYPOINTS = 2 * HAND_LANDMARKS  # Cuerpo + 2 manos\n",
    "\n",
    "    # Crear la carpeta base de salida\n",
    "    os.makedirs(output_base, exist_ok=True)\n",
    "\n",
    "    for sign in signs:\n",
    "        video_folder = os.path.join(data_folder, sign)\n",
    "        output_folder = os.path.join(output_base, sign)\n",
    "        os.makedirs(output_folder, exist_ok=True)\n",
    "\n",
    "        video_files = [f for f in os.listdir(video_folder) if f.endswith(('.mp4', '.avi', '.mov'))]\n",
    "        if not video_files:\n",
    "            print(f\"⚠️ No se encontraron videos para el signo '{sign}' en {video_folder}\")\n",
    "            continue\n",
    "\n",
    "        print(f\" 🍓 Signo '{sign}': {len(video_files)} videos encontrados. Procesando...\")\n",
    "\n",
    "        for video_name in video_files:\n",
    "            video_path = os.path.join(video_folder, video_name)\n",
    "            cap = cv2.VideoCapture(video_path)\n",
    "\n",
    "            if not cap.isOpened():\n",
    "                print(f\"⚠️ No se pudo abrir el video: {video_name}\")\n",
    "                continue\n",
    "\n",
    "            keypoints_list = []\n",
    "            print(f\" 🥭 Procesando: {video_name}\")\n",
    "\n",
    "            with mp_holistic.Holistic(static_image_mode=False, min_detection_confidence=0.5, min_tracking_confidence=0.5) as holistic:\n",
    "                while cap.isOpened():\n",
    "                    ret, frame = cap.read()\n",
    "                    if not ret:\n",
    "                        break\n",
    "\n",
    "                    frame_rgb = cv2.cvtColor(frame, cv2.COLOR_BGR2RGB)\n",
    "                    results = holistic.process(frame_rgb)\n",
    "                    keypoints = [(0, 0, 0)] * TOTAL_KEYPOINTS\n",
    "\n",
    "                    #if results.pose_landmarks:\n",
    "                    #    for i, lm in enumerate(results.pose_landmarks.landmark):\n",
    "                    #        keypoints[i] = (lm.x, lm.y, lm.z)\n",
    "\n",
    "                    if results.left_hand_landmarks:\n",
    "                        for i, lm in enumerate(results.left_hand_landmarks.landmark):\n",
    "                            keypoints[i] = (lm.x, lm.y, lm.z)\n",
    "\n",
    "                    if results.right_hand_landmarks:\n",
    "                        for i, lm in enumerate(results.right_hand_landmarks.landmark):\n",
    "                            keypoints[HAND_LANDMARKS + i] = (lm.x, lm.y, lm.z)\n",
    "\n",
    "                    keypoints_list.append(keypoints)\n",
    "\n",
    "                cap.release()\n",
    "\n",
    "            if keypoints_list:\n",
    "                keypoints_array = np.array(keypoints_list)\n",
    "                output_path = os.path.join(output_folder, video_name.replace(\".mp4\", \".npy\"))\n",
    "                np.save(output_path, keypoints_array)\n",
    "                print(f\"✅ Keypoints guardados en {output_path}\")\n",
    "            else:\n",
    "                print(f\"⚠️ No se extrajeron keypoints para {video_name}\")\n",
    "\n",
    "    print(\"\\n🎉 Proceso finalizado.\")\n"
   ]
  },
  {
   "cell_type": "code",
   "execution_count": 9,
   "metadata": {},
   "outputs": [
    {
     "ename": "NameError",
     "evalue": "name 'extract_keypoints_for_signs' is not defined",
     "output_type": "error",
     "traceback": [
      "\u001b[0;31m---------------------------------------------------------------------------\u001b[0m",
      "\u001b[0;31mNameError\u001b[0m                                 Traceback (most recent call last)",
      "Cell \u001b[0;32mIn[9], line 2\u001b[0m\n\u001b[1;32m      1\u001b[0m output_main_folder \u001b[38;5;241m=\u001b[39m \u001b[38;5;124m'\u001b[39m\u001b[38;5;124m../data/keypoints\u001b[39m\u001b[38;5;124m'\u001b[39m\n\u001b[0;32m----> 2\u001b[0m \u001b[43mextract_keypoints_for_signs\u001b[49m(\u001b[38;5;124m'\u001b[39m\u001b[38;5;124m../data/videos/\u001b[39m\u001b[38;5;124m'\u001b[39m, signs, output_main_folder)\n",
      "\u001b[0;31mNameError\u001b[0m: name 'extract_keypoints_for_signs' is not defined"
     ]
    }
   ],
   "source": [
    "output_main_folder = '../data/keypoints'\n",
    "extract_keypoints_for_signs('../data/videos/', signs, output_main_folder)"
   ]
  },
  {
   "cell_type": "markdown",
   "metadata": {},
   "source": [
    "## Data augmentation"
   ]
  },
  {
   "cell_type": "code",
   "execution_count": null,
   "metadata": {},
   "outputs": [],
   "source": [
    "# Paths\n",
    "input_folder = \"../data/keypoints\"\n",
    "output_folder = \"../data/keypoints_augmented\"\n",
    "\n",
    "# Parameters\n",
    "#signs = [\"hello\", \"bye\", \"world\", \"thank_you\"]\n",
    "augmentations_per_sample = 10  # Create 10 variations per sample\n",
    "SEQUENCE_LENGTH = 30\n",
    "\n",
    "# Create output folder if it doesn't exist\n",
    "os.makedirs(output_folder, exist_ok=True)\n",
    "\n",
    "for sign in signs:\n",
    "    input_sign_folder = os.path.join(input_folder, sign)\n",
    "    output_sign_folder = os.path.join(output_folder, sign)\n",
    "    os.makedirs(output_sign_folder, exist_ok=True)\n",
    "\n",
    "    for filename in os.listdir(input_sign_folder):\n",
    "        if not filename.endswith(\".npy\"):\n",
    "            continue\n",
    "\n",
    "        filepath = os.path.join(input_sign_folder, filename)\n",
    "        sequence = np.load(filepath)\n",
    "\n",
    "        # Save original\n",
    "        output_path = os.path.join(output_sign_folder, filename)\n",
    "        np.save(output_path, sequence)\n",
    "\n",
    "        # Generate augmentations\n",
    "        for i in range(augmentations_per_sample):\n",
    "            aug_sequence = sequence.copy()\n",
    "\n",
    "            # Add random Gaussian noise\n",
    "            noise = np.random.normal(0, 0.01, aug_sequence.shape)\n",
    "            aug_sequence += noise\n",
    "\n",
    "            # Randomly time shift (small roll of frames)\n",
    "            shift = np.random.randint(-2, 3)\n",
    "            aug_sequence = np.roll(aug_sequence, shift=shift, axis=0)\n",
    "\n",
    "            # Optional: Random slight scaling\n",
    "            scale = np.random.uniform(0.9, 1.1)\n",
    "            aug_sequence *= scale\n",
    "\n",
    "            # Save augmented sequence\n",
    "            aug_filename = filename.replace(\".npy\", f\"_aug{i}.npy\")\n",
    "            aug_output_path = os.path.join(output_sign_folder, aug_filename)\n",
    "            np.save(aug_output_path, aug_sequence)"
   ]
  },
  {
   "cell_type": "markdown",
   "metadata": {},
   "source": [
    "## Generate train test data"
   ]
  },
  {
   "cell_type": "code",
   "execution_count": 3,
   "metadata": {},
   "outputs": [],
   "source": [
    "# con el cuerpo completo tendríamos esta foma expected shape: (T, 75, 3)\n",
    "# con solo las manos (izquierda + derecha → 2 × 21 = 42 puntos)\n",
    "#T: número de frames\n",
    "# 42: 21 puntos por mano × 2 manos\n",
    "# 3: coordenadas x, y, z\n",
    "SEQUENCE_LENGTH = 30  # Fixed number of frames\n",
    "\n",
    "def load_dataset(signs, keypoints_root):\n",
    "    sequences = []\n",
    "    labels = []\n",
    "\n",
    "    for sign in signs:\n",
    "        sign_folder = os.path.join(keypoints_root, sign)\n",
    "        if not os.path.exists(sign_folder):\n",
    "            print(f\"⚠️ Folder not found: {sign_folder}\")\n",
    "            continue\n",
    "\n",
    "        for filename in os.listdir(sign_folder):\n",
    "            if not filename.endswith(\".npy\"):\n",
    "                continue\n",
    "\n",
    "            file_path = os.path.join(sign_folder, filename)\n",
    "            sequence = np.load(file_path)\n",
    "\n",
    "            # Handle expected shape: (T, 42, 2)\n",
    "            if len(sequence.shape) != 3 or sequence.shape[1:] != (42, 3):\n",
    "                print(f\"⚠️ Skipping {file_path}: unexpected shape {sequence.shape}\")\n",
    "                continue\n",
    "\n",
    "            # Flatten per frame → (T, 225)\n",
    "            sequence = sequence.reshape(sequence.shape[0], -1)\n",
    "\n",
    "            # Pad or truncate to fixed length\n",
    "            if sequence.shape[0] < SEQUENCE_LENGTH:\n",
    "                pad_width = SEQUENCE_LENGTH - sequence.shape[0]\n",
    "                sequence = np.pad(sequence, ((0, pad_width), (0, 0)), mode='constant')\n",
    "            else:\n",
    "                sequence = sequence[:SEQUENCE_LENGTH]\n",
    "\n",
    "            sequences.append(sequence)\n",
    "            labels.append(sign)\n",
    "\n",
    "    if not sequences:\n",
    "        raise ValueError(\"❌ No valid sequences were loaded. Please check your input files.\")\n",
    "\n",
    "    # Convert to numpy arrays\n",
    "    X = np.array(sequences)  # shape: (num_samples, SEQUENCE_LENGTH, 225)\n",
    "    y = np.array(labels)\n",
    "\n",
    "    # Encode labels to integers\n",
    "    encoder = LabelEncoder()\n",
    "    y_encoded = encoder.fit_transform(y)\n",
    "\n",
    "    # Normalize keypoints\n",
    "    X_mean = X.mean(axis=(0, 1))\n",
    "    X_std = X.std(axis=(0, 1)) + 1e-6\n",
    "    X_normalized = (X - X_mean) / X_std\n",
    "\n",
    "    # Train-validation split\n",
    "    X_train, X_val, y_train, y_val = train_test_split(\n",
    "        X_normalized, y_encoded, test_size=0.2, stratify=y_encoded, random_state=42\n",
    "    )\n",
    "\n",
    "    print(f\"✅ Dataset ready! Train: {X_train.shape}, Val: {X_val.shape}\")\n",
    "    print(f\"Classes: {encoder.classes_}\")\n",
    "\n",
    "    return X_train, X_val, y_train, y_val, encoder, X_mean, X_std\n"
   ]
  },
  {
   "cell_type": "code",
   "execution_count": 4,
   "metadata": {},
   "outputs": [
    {
     "name": "stdout",
     "output_type": "stream",
     "text": [
      "✅ Dataset ready! Train: (336, 30, 126), Val: (84, 30, 126)\n",
      "Classes: ['bye' 'hello' 'no' 'please' 'thank_you' 'world' 'yes']\n"
     ]
    }
   ],
   "source": [
    "signs_data = [\"hello\", \"bye\", \"world\", \"thank_you\", \"yes\", \"no\", \"please\"]\n",
    "keypoints_folder = \"../data/keypoints\"\n",
    "#keypoints_folder = \"../data/keypoints_augmented\"\n",
    "X_train, X_val, y_train, y_val, label_encoder, X_mean, X_std = load_dataset(signs_data, keypoints_folder)"
   ]
  },
  {
   "cell_type": "code",
   "execution_count": 5,
   "metadata": {},
   "outputs": [],
   "source": [
    "# guardamos label_encoder para implementarlo en la app \n",
    "with open(\"../app/label_encoder.pkl\", \"wb\") as f:\n",
    "    pickle.dump(label_encoder, f)"
   ]
  },
  {
   "cell_type": "code",
   "execution_count": 6,
   "metadata": {},
   "outputs": [],
   "source": [
    "# guardamos keypoint normalization parameters para app \n",
    "scaler = {\"mean\": X_mean, \"std\": X_std}\n",
    "\n",
    "with open(\"../app/scaler.pkl\", \"wb\") as f:\n",
    "    pickle.dump(scaler, f)"
   ]
  },
  {
   "cell_type": "code",
   "execution_count": 7,
   "metadata": {},
   "outputs": [
    {
     "name": "stdout",
     "output_type": "stream",
     "text": [
      "Counter({2: 48, 6: 48, 0: 48, 4: 48, 1: 48, 5: 48, 3: 48})\n"
     ]
    }
   ],
   "source": [
    "from collections import Counter\n",
    "print(Counter(y_train))\n"
   ]
  },
  {
   "cell_type": "markdown",
   "metadata": {},
   "source": [
    "## modelo lstm en pytorch"
   ]
  },
  {
   "cell_type": "code",
   "execution_count": 8,
   "metadata": {},
   "outputs": [],
   "source": [
    "# Parámetros\n",
    "BATCH_SIZE = 32\n",
    "EPOCHS = 30\n",
    "NUM_CLASSES = len(label_encoder.classes_)\n",
    "INPUT_SIZE = X_train.shape[2]\n",
    "SEQUENCE_LENGTH = X_train.shape[1]\n",
    "\n",
    "# Dataset y DataLoader\n",
    "train_dataset = TensorDataset(torch.tensor(X_train, dtype=torch.float32), torch.tensor(y_train, dtype=torch.long))\n",
    "val_dataset = TensorDataset(torch.tensor(X_val, dtype=torch.float32), torch.tensor(y_val, dtype=torch.long))\n",
    "\n",
    "train_loader = DataLoader(train_dataset, batch_size=BATCH_SIZE, shuffle=True)\n",
    "val_loader = DataLoader(val_dataset, batch_size=BATCH_SIZE)\n",
    "\n",
    "# Modelo LSTM\n",
    "\n",
    "class SignLSTM(nn.Module):\n",
    "    def __init__(self, input_size, hidden_size=128, num_layers=1, num_classes=NUM_CLASSES):\n",
    "        super(SignLSTM, self).__init__()\n",
    "        self.lstm = nn.LSTM(input_size, hidden_size, num_layers=num_layers, batch_first=True)\n",
    "        #self.dropout = nn.Dropout(0.5)  # 50% dropout\n",
    "        self.fc = nn.Linear(hidden_size, num_classes)\n",
    "\n",
    "    def forward(self, x):\n",
    "        # output: (batch, seq_len, hidden_size)\n",
    "        # hn: (num_layers, batch, hidden_size)\n",
    "        _, (hn, _) = self.lstm(x)\n",
    "        out = self.fc(hn[-1])  \n",
    "        #out = self.dropout(hn[-1]) # aplicamos dropout y utilzamos la última capa\n",
    "        return out\n",
    "\n",
    "\n",
    "model = SignLSTM(INPUT_SIZE)\n",
    "criterion = nn.CrossEntropyLoss()\n",
    "optimizer = torch.optim.Adam(model.parameters(), lr=0.001)\n"
   ]
  },
  {
   "cell_type": "code",
   "execution_count": 9,
   "metadata": {},
   "outputs": [
    {
     "name": "stdout",
     "output_type": "stream",
     "text": [
      "📚 Epoch 1/30 | Loss: 18.7213 | Val Accuracy: 57.14%\n",
      "📚 Epoch 2/30 | Loss: 12.8153 | Val Accuracy: 79.76%\n",
      "📚 Epoch 3/30 | Loss: 8.5016 | Val Accuracy: 95.24%\n",
      "📚 Epoch 4/30 | Loss: 5.6037 | Val Accuracy: 96.43%\n",
      "📚 Epoch 5/30 | Loss: 3.5916 | Val Accuracy: 96.43%\n",
      "📚 Epoch 6/30 | Loss: 2.4515 | Val Accuracy: 92.86%\n",
      "📚 Epoch 7/30 | Loss: 1.5933 | Val Accuracy: 96.43%\n",
      "📚 Epoch 8/30 | Loss: 1.0445 | Val Accuracy: 97.62%\n",
      "📚 Epoch 9/30 | Loss: 0.8571 | Val Accuracy: 97.62%\n",
      "📚 Epoch 10/30 | Loss: 0.6039 | Val Accuracy: 97.62%\n",
      "📚 Epoch 11/30 | Loss: 0.3895 | Val Accuracy: 97.62%\n",
      "📚 Epoch 12/30 | Loss: 0.2907 | Val Accuracy: 97.62%\n",
      "📚 Epoch 13/30 | Loss: 0.2263 | Val Accuracy: 98.81%\n",
      "📚 Epoch 14/30 | Loss: 0.1885 | Val Accuracy: 98.81%\n",
      "📚 Epoch 15/30 | Loss: 0.1652 | Val Accuracy: 98.81%\n",
      "📚 Epoch 16/30 | Loss: 0.1431 | Val Accuracy: 98.81%\n",
      "📚 Epoch 17/30 | Loss: 0.1257 | Val Accuracy: 97.62%\n",
      "📚 Epoch 18/30 | Loss: 0.1128 | Val Accuracy: 98.81%\n",
      "📚 Epoch 19/30 | Loss: 0.1013 | Val Accuracy: 98.81%\n",
      "📚 Epoch 20/30 | Loss: 0.0930 | Val Accuracy: 98.81%\n",
      "📚 Epoch 21/30 | Loss: 0.0832 | Val Accuracy: 98.81%\n",
      "📚 Epoch 22/30 | Loss: 0.0764 | Val Accuracy: 98.81%\n",
      "📚 Epoch 23/30 | Loss: 0.0702 | Val Accuracy: 98.81%\n",
      "📚 Epoch 24/30 | Loss: 0.0648 | Val Accuracy: 98.81%\n",
      "📚 Epoch 25/30 | Loss: 0.0607 | Val Accuracy: 98.81%\n",
      "📚 Epoch 26/30 | Loss: 0.0563 | Val Accuracy: 98.81%\n",
      "📚 Epoch 27/30 | Loss: 0.0525 | Val Accuracy: 98.81%\n",
      "📚 Epoch 28/30 | Loss: 0.0493 | Val Accuracy: 98.81%\n",
      "📚 Epoch 29/30 | Loss: 0.0462 | Val Accuracy: 98.81%\n",
      "📚 Epoch 30/30 | Loss: 0.0439 | Val Accuracy: 98.81%\n"
     ]
    }
   ],
   "source": [
    "# entrenamiento del modelo\n",
    "\n",
    "device = torch.device(\"cuda\" if torch.cuda.is_available() else \"cpu\")\n",
    "model = model.to(device)\n",
    "\n",
    "for epoch in range(EPOCHS):\n",
    "    model.train()\n",
    "    total_loss = 0\n",
    "    for batch_x, batch_y in train_loader:\n",
    "        batch_x, batch_y = batch_x.to(device), batch_y.to(device)\n",
    "\n",
    "        optimizer.zero_grad()\n",
    "        outputs = model(batch_x)\n",
    "        loss = criterion(outputs, batch_y)\n",
    "        loss.backward()\n",
    "        optimizer.step()\n",
    "        total_loss += loss.item()\n",
    "\n",
    "    model.eval()\n",
    "    correct = 0\n",
    "    total = 0\n",
    "    with torch.no_grad():\n",
    "        for batch_x, batch_y in val_loader:\n",
    "            batch_x, batch_y = batch_x.to(device), batch_y.to(device)\n",
    "            outputs = model(batch_x)\n",
    "            _, predicted = torch.max(outputs, 1)\n",
    "            total += batch_y.size(0)\n",
    "            correct += (predicted == batch_y).sum().item()\n",
    "\n",
    "    print(f\"📚 Epoch {epoch+1}/{EPOCHS} | Loss: {total_loss:.4f} | Val Accuracy: {100*correct/total:.2f}%\")\n"
   ]
  },
  {
   "cell_type": "code",
   "execution_count": 10,
   "metadata": {},
   "outputs": [],
   "source": [
    "# guardamos el modelo para implementarlo en la app \n",
    "torch.save(model.state_dict(), \"../app/model.pth\")"
   ]
  },
  {
   "cell_type": "markdown",
   "metadata": {},
   "source": [
    "## Validación "
   ]
  },
  {
   "cell_type": "code",
   "execution_count": 11,
   "metadata": {},
   "outputs": [
    {
     "name": "stdout",
     "output_type": "stream",
     "text": [
      "✅ Validation Accuracy: 98.81%\n"
     ]
    }
   ],
   "source": [
    "# Accuracy Score\n",
    "\n",
    "from sklearn.metrics import accuracy_score\n",
    "\n",
    "model.eval()\n",
    "all_preds = []\n",
    "all_labels = []\n",
    "\n",
    "with torch.no_grad():\n",
    "    for batch_x, batch_y in val_loader:\n",
    "        batch_x, batch_y = batch_x.to(device), batch_y.to(device)\n",
    "        outputs = model(batch_x)\n",
    "        _, predicted = torch.max(outputs, 1)\n",
    "        all_preds.extend(predicted.cpu().numpy())\n",
    "        all_labels.extend(batch_y.cpu().numpy())\n",
    "\n",
    "acc = accuracy_score(all_labels, all_preds)\n",
    "print(f\"✅ Validation Accuracy: {acc * 100:.2f}%\")"
   ]
  },
  {
   "cell_type": "code",
   "execution_count": 12,
   "metadata": {},
   "outputs": [
    {
     "data": {
      "image/png": "[encoded data removed]",
      "text/plain": [
       "<Figure size 640x480 with 2 Axes>"
      ]
     },
     "metadata": {},
     "output_type": "display_data"
    }
   ],
   "source": [
    "# confussion matrix\n",
    "\n",
    "from sklearn.metrics import confusion_matrix, ConfusionMatrixDisplay\n",
    "import matplotlib.pyplot as plt\n",
    "\n",
    "cm = confusion_matrix(all_labels, all_preds)\n",
    "disp = ConfusionMatrixDisplay(confusion_matrix=cm, display_labels=label_encoder.classes_)\n",
    "disp.plot(cmap=\"Blues\", xticks_rotation=45)\n",
    "plt.title(\"Confusion Matrix\")\n",
    "plt.show()\n"
   ]
  },
  {
   "cell_type": "code",
   "execution_count": 13,
   "metadata": {},
   "outputs": [
    {
     "name": "stdout",
     "output_type": "stream",
     "text": [
      "              precision    recall  f1-score   support\n",
      "\n",
      "         bye       1.00      0.92      0.96        12\n",
      "       hello       1.00      1.00      1.00        12\n",
      "          no       1.00      1.00      1.00        12\n",
      "      please       1.00      1.00      1.00        12\n",
      "   thank_you       1.00      1.00      1.00        12\n",
      "       world       1.00      1.00      1.00        12\n",
      "         yes       0.92      1.00      0.96        12\n",
      "\n",
      "    accuracy                           0.99        84\n",
      "   macro avg       0.99      0.99      0.99        84\n",
      "weighted avg       0.99      0.99      0.99        84\n",
      "\n"
     ]
    }
   ],
   "source": [
    "# Precision, Recall, F1 Score\n",
    "\n",
    "from sklearn.metrics import classification_report\n",
    "\n",
    "print(classification_report(all_labels, all_preds, target_names=label_encoder.classes_))\n"
   ]
  },
  {
   "cell_type": "code",
   "execution_count": null,
   "metadata": {},
   "outputs": [],
   "source": []
  },
  {
   "cell_type": "code",
   "execution_count": null,
   "metadata": {},
   "outputs": [],
   "source": []
  }
 ],
 "metadata": {
  "kernelspec": {
   "display_name": "Python 3",
   "language": "python",
   "name": "python3"
  },
  "language_info": {
   "codemirror_mode": {
    "name": "ipython",
    "version": 3
   },
   "file_extension": ".py",
   "mimetype": "text/x-python",
   "name": "python",
   "nbconvert_exporter": "python",
   "pygments_lexer": "ipython3",
   "version": "3.9.6"
  }
 },
 "nbformat": 4,
 "nbformat_minor": 2
}
