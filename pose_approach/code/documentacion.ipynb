{
 "cells": [
  {
   "cell_type": "markdown",
   "id": "ac6e6350",
   "metadata": {},
   "source": [
    "### Visualize Extracted Keypoints"
   ]
  },
  {
   "cell_type": "code",
   "execution_count": 1,
   "id": "0add4e3d",
   "metadata": {},
   "outputs": [],
   "source": [
    "import cv2\n",
    "import numpy as np\n",
    "import os\n",
    "import matplotlib.pyplot as plt\n",
    "\n",
    "# Function to visualize keypoints from a .npy file\n",
    "def visualize_keypoints(npy_file):\n",
    "    keypoints = np.load(npy_file)  # Load keypoints data\n",
    "    num_frames = keypoints.shape[0]\n",
    "\n",
    "    print(f\"Visualizing {os.path.basename(npy_file)} ({num_frames} frames)\")\n",
    "\n",
    "    # Create a blank image for visualization\n",
    "    img_size = 500\n",
    "    blank_frame = np.ones((img_size, img_size, 3), dtype=np.uint8) * 255\n",
    "\n",
    "    # Define landmarks (POSE = 33, HAND = 21 per hand)\n",
    "    POSE_LANDMARKS = 33\n",
    "    HAND_LANDMARKS = 21\n",
    "    TOTAL_KEYPOINTS = POSE_LANDMARKS + 2 * HAND_LANDMARKS  # Pose + 2 Hands\n",
    "\n",
    "    # Animate the keypoints frame by frame\n",
    "    for frame_idx in range(num_frames):\n",
    "        img = blank_frame.copy()\n",
    "        frame_keypoints = keypoints[frame_idx]\n",
    "\n",
    "        # Normalize & scale keypoints to fit the image\n",
    "        scaled_keypoints = (frame_keypoints[:, :2] * img_size).astype(int)\n",
    "\n",
    "        # Draw pose landmarks\n",
    "        for i in range(POSE_LANDMARKS):\n",
    "            x, y = scaled_keypoints[i]\n",
    "            cv2.circle(img, (x, y), 3, (0, 0, 255), -1)  # Red for pose\n",
    "\n",
    "        # Draw left hand landmarks\n",
    "        for i in range(HAND_LANDMARKS):\n",
    "            x, y = scaled_keypoints[POSE_LANDMARKS + i]\n",
    "            cv2.circle(img, (x, y), 3, (255, 0, 0), -1)  # Blue for left hand\n",
    "\n",
    "        # Draw right hand landmarks\n",
    "        for i in range(HAND_LANDMARKS):\n",
    "            x, y = scaled_keypoints[POSE_LANDMARKS + HAND_LANDMARKS + i]\n",
    "            cv2.circle(img, (x, y), 3, (0, 255, 0), -1)  # Green for right hand\n",
    "\n",
    "        # Show the frame\n",
    "        cv2.imshow(\"Keypoints Visualization\", img)\n",
    "        if cv2.waitKey(50) & 0xFF == ord('q'):  # Press 'q' to quit\n",
    "            break\n",
    "\n",
    "    cv2.destroyAllWindows()\n",
    "    print(\" Visualization complete.\")"
   ]
  },
  {
   "cell_type": "code",
   "execution_count": 2,
   "id": "5d22b3d3",
   "metadata": {},
   "outputs": [
    {
     "name": "stdout",
     "output_type": "stream",
     "text": [
      "Found 9 keypoint files.\n",
      "Visualizing Screen Recording 2025-03-17 at 19.45.38.mov.npy (144 frames)\n"
     ]
    },
    {
     "name": "stderr",
     "output_type": "stream",
     "text": [
      "2025-04-25 09:59:51.332 Python[20590:852551] +[IMKClient subclass]: chose IMKClient_Modern\n",
      "2025-04-25 09:59:51.332 Python[20590:852551] +[IMKInputSession subclass]: chose IMKInputSession_Modern\n"
     ]
    },
    {
     "name": "stdout",
     "output_type": "stream",
     "text": [
      " Visualization complete.\n"
     ]
    }
   ],
   "source": [
    "# Folder where keypoint files are stored\n",
    "keypoints_folder = \"../data/keypoints/bye\"\n",
    "\n",
    "# Get all .npy files for keypoints\n",
    "npy_files = [f for f in os.listdir(keypoints_folder) if f.endswith(\".npy\")]\n",
    "\n",
    "print(f\"Found {len(npy_files)} keypoint files.\")\n",
    "\n",
    "# Visualize the first keypoint file (change index for other files)\n",
    "visualize_keypoints(os.path.join(keypoints_folder, npy_files[0]))\n"
   ]
  },
  {
   "cell_type": "code",
   "execution_count": 3,
   "id": "2646912b",
   "metadata": {},
   "outputs": [],
   "source": [
    "#forzar salida de la visualizacion\n",
    "cv2.waitKey(1)\n",
    "cv2.destroyAllWindows()"
   ]
  }
 ],
 "metadata": {
  "kernelspec": {
   "display_name": "Python 3",
   "language": "python",
   "name": "python3"
  },
  "language_info": {
   "codemirror_mode": {
    "name": "ipython",
    "version": 3
   },
   "file_extension": ".py",
   "mimetype": "text/x-python",
   "name": "python",
   "nbconvert_exporter": "python",
   "pygments_lexer": "ipython3",
   "version": "3.9.6"
  }
 },
 "nbformat": 4,
 "nbformat_minor": 5
}
